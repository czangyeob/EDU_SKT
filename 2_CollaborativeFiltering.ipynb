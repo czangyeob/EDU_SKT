{
 "cells": [
  {
   "cell_type": "markdown",
   "metadata": {},
   "source": [
    "# Collaborative Filtering과 Cosine Distance를 활용한 음악 추천"
   ]
  },
  {
   "cell_type": "markdown",
   "metadata": {},
   "source": [
    "Last.fm 데이터는 스페인 바로셀로나의 Music Technology Group@Universitat Pompeu Fabra에서 만들었다.\n",
    "\n",
    "이 데이터는 다음 두 부분으로 나뉘어져 있다.\n",
    "\n",
    "1) 사용자 활동 데이터<br> 2) 사용자 프로필 데이터<br><br>\n",
    "360,000명의 사용자가 Last.fm에서 들은 아티스트 정보를 포함한다."
   ]
  },
  {
   "cell_type": "markdown",
   "metadata": {},
   "source": [
    "먼저, 필요한 라이브러리를 로드하고 옵션을 지정한다."
   ]
  },
  {
   "cell_type": "code",
   "execution_count": 1,
   "metadata": {
    "collapsed": true
   },
   "outputs": [],
   "source": [
    "import pandas as pd\n",
    "import numpy as np\n",
    "from scipy.sparse import csr_matrix\n",
    "# display results to 3 decimal points, not in scientific notation\n",
    "pd.set_option('display.float_format', lambda x: '%.3f' % x)"
   ]
  },
  {
   "cell_type": "markdown",
   "metadata": {},
   "source": [
    "사용자의 활동 정보를 불러온다.<br>사용자,아티스트 이름,플레이 횟수로 구성되어 있다."
   ]
  },
  {
   "cell_type": "code",
   "execution_count": 8,
   "metadata": {
    "collapsed": true
   },
   "outputs": [],
   "source": [
    "user_data = pd.read_table('./Data/lastfm-dataset-360K/usersha1-artmbid-artname-plays.tsv',\n",
    "                          header = None, nrows = 2e7,\n",
    "                          names = ['users', 'musicbrainz-artist-id', 'artist-name', 'plays'],\n",
    "                          usecols = ['users', 'artist-name', 'plays'])"
   ]
  },
  {
   "cell_type": "markdown",
   "metadata": {},
   "source": [
    "사용자의 프로필을 불러온다."
   ]
  },
  {
   "cell_type": "code",
   "execution_count": 9,
   "metadata": {
    "collapsed": true
   },
   "outputs": [],
   "source": [
    "user_profiles = pd.read_table('./data/lastfm-dataset-360K/usersha1-profile.tsv',\n",
    "                          header = None,\n",
    "                          names = ['users', 'gender', 'age', 'country', 'signup'],\n",
    "                          usecols = ['users', 'country'])"
   ]
  },
  {
   "cell_type": "raw",
   "metadata": {},
   "source": [
    "각 데이터가 어떻게 구성되어 있는지 확인한다."
   ]
  },
  {
   "cell_type": "code",
   "execution_count": 10,
   "metadata": {},
   "outputs": [
    {
     "data": {
      "text/html": [
       "<div>\n",
       "<style>\n",
       "    .dataframe thead tr:only-child th {\n",
       "        text-align: right;\n",
       "    }\n",
       "\n",
       "    .dataframe thead th {\n",
       "        text-align: left;\n",
       "    }\n",
       "\n",
       "    .dataframe tbody tr th {\n",
       "        vertical-align: top;\n",
       "    }\n",
       "</style>\n",
       "<table border=\"1\" class=\"dataframe\">\n",
       "  <thead>\n",
       "    <tr style=\"text-align: right;\">\n",
       "      <th></th>\n",
       "      <th>users</th>\n",
       "      <th>artist-name</th>\n",
       "      <th>plays</th>\n",
       "    </tr>\n",
       "  </thead>\n",
       "  <tbody>\n",
       "    <tr>\n",
       "      <th>0</th>\n",
       "      <td>00000c289a1829a808ac09c00daf10bc3c4e223b</td>\n",
       "      <td>betty blowtorch</td>\n",
       "      <td>2137</td>\n",
       "    </tr>\n",
       "    <tr>\n",
       "      <th>1</th>\n",
       "      <td>00000c289a1829a808ac09c00daf10bc3c4e223b</td>\n",
       "      <td>die Ärzte</td>\n",
       "      <td>1099</td>\n",
       "    </tr>\n",
       "    <tr>\n",
       "      <th>2</th>\n",
       "      <td>00000c289a1829a808ac09c00daf10bc3c4e223b</td>\n",
       "      <td>melissa etheridge</td>\n",
       "      <td>897</td>\n",
       "    </tr>\n",
       "    <tr>\n",
       "      <th>3</th>\n",
       "      <td>00000c289a1829a808ac09c00daf10bc3c4e223b</td>\n",
       "      <td>elvenking</td>\n",
       "      <td>717</td>\n",
       "    </tr>\n",
       "    <tr>\n",
       "      <th>4</th>\n",
       "      <td>00000c289a1829a808ac09c00daf10bc3c4e223b</td>\n",
       "      <td>juliette &amp; the licks</td>\n",
       "      <td>706</td>\n",
       "    </tr>\n",
       "  </tbody>\n",
       "</table>\n",
       "</div>"
      ],
      "text/plain": [
       "                                      users           artist-name  plays\n",
       "0  00000c289a1829a808ac09c00daf10bc3c4e223b       betty blowtorch   2137\n",
       "1  00000c289a1829a808ac09c00daf10bc3c4e223b             die Ärzte   1099\n",
       "2  00000c289a1829a808ac09c00daf10bc3c4e223b     melissa etheridge    897\n",
       "3  00000c289a1829a808ac09c00daf10bc3c4e223b             elvenking    717\n",
       "4  00000c289a1829a808ac09c00daf10bc3c4e223b  juliette & the licks    706"
      ]
     },
     "execution_count": 10,
     "metadata": {},
     "output_type": "execute_result"
    }
   ],
   "source": [
    "user_data.head()"
   ]
  },
  {
   "cell_type": "code",
   "execution_count": 11,
   "metadata": {},
   "outputs": [
    {
     "data": {
      "text/html": [
       "<div>\n",
       "<style>\n",
       "    .dataframe thead tr:only-child th {\n",
       "        text-align: right;\n",
       "    }\n",
       "\n",
       "    .dataframe thead th {\n",
       "        text-align: left;\n",
       "    }\n",
       "\n",
       "    .dataframe tbody tr th {\n",
       "        vertical-align: top;\n",
       "    }\n",
       "</style>\n",
       "<table border=\"1\" class=\"dataframe\">\n",
       "  <thead>\n",
       "    <tr style=\"text-align: right;\">\n",
       "      <th></th>\n",
       "      <th>users</th>\n",
       "      <th>country</th>\n",
       "    </tr>\n",
       "  </thead>\n",
       "  <tbody>\n",
       "    <tr>\n",
       "      <th>0</th>\n",
       "      <td>00000c289a1829a808ac09c00daf10bc3c4e223b</td>\n",
       "      <td>Germany</td>\n",
       "    </tr>\n",
       "    <tr>\n",
       "      <th>1</th>\n",
       "      <td>00001411dc427966b17297bf4d69e7e193135d89</td>\n",
       "      <td>Canada</td>\n",
       "    </tr>\n",
       "    <tr>\n",
       "      <th>2</th>\n",
       "      <td>00004d2ac9316e22dc007ab2243d6fcb239e707d</td>\n",
       "      <td>Germany</td>\n",
       "    </tr>\n",
       "    <tr>\n",
       "      <th>3</th>\n",
       "      <td>000063d3fe1cf2ba248b9e3c3f0334845a27a6bf</td>\n",
       "      <td>Mexico</td>\n",
       "    </tr>\n",
       "    <tr>\n",
       "      <th>4</th>\n",
       "      <td>00007a47085b9aab8af55f52ec8846ac479ac4fe</td>\n",
       "      <td>United States</td>\n",
       "    </tr>\n",
       "  </tbody>\n",
       "</table>\n",
       "</div>"
      ],
      "text/plain": [
       "                                      users        country\n",
       "0  00000c289a1829a808ac09c00daf10bc3c4e223b        Germany\n",
       "1  00001411dc427966b17297bf4d69e7e193135d89         Canada\n",
       "2  00004d2ac9316e22dc007ab2243d6fcb239e707d        Germany\n",
       "3  000063d3fe1cf2ba248b9e3c3f0334845a27a6bf         Mexico\n",
       "4  00007a47085b9aab8af55f52ec8846ac479ac4fe  United States"
      ]
     },
     "execution_count": 11,
     "metadata": {},
     "output_type": "execute_result"
    }
   ],
   "source": [
    "user_profiles.head()"
   ]
  },
  {
   "cell_type": "markdown",
   "metadata": {},
   "source": [
    "데이터를 메모리로 불러왔고, 데이터 전처리 후에 추천 알고리즘을 적용해보자."
   ]
  },
  {
   "cell_type": "markdown",
   "metadata": {},
   "source": [
    "### 유명한 아티스트 데이터 추출"
   ]
  },
  {
   "cell_type": "markdown",
   "metadata": {},
   "source": [
    "추천은 사용자가 들은 아티스트의 패턴을 기반으로 한다.<br>\n",
    "여러 번 플레이 되지 않은 덜 유명한 아티스트의 경우, 패턴이 정확하지 않을 수 있다. 이 경우 올바르지 않은 추천을 하게 된다. <br> 이 문제를 줄이기 위해 잘 알려진 아티스트의 데이터만 활용한다."
   ]
  },
  {
   "cell_type": "code",
   "execution_count": 12,
   "metadata": {
    "collapsed": true
   },
   "outputs": [],
   "source": [
    "if user_data['artist-name'].isnull().sum() > 0:\n",
    "    user_data = user_data.dropna(axis = 0, subset = ['artist-name'])"
   ]
  },
  {
   "cell_type": "markdown",
   "metadata": {},
   "source": [
    "유명한 아티스트를 찾기 위해 각 아티스트 마다 플레이 횟수를 찾아내야 한다.<br> 사용자의 플레이 횟수는 사용자 활동 데이터 한 줄에 하나의 아티스트의 플레이 횟수를 포함하므로 아티스트 단위로 취합해야 한다."
   ]
  },
  {
   "cell_type": "code",
   "execution_count": 14,
   "metadata": {},
   "outputs": [
    {
     "data": {
      "text/html": [
       "<div>\n",
       "<style>\n",
       "    .dataframe thead tr:only-child th {\n",
       "        text-align: right;\n",
       "    }\n",
       "\n",
       "    .dataframe thead th {\n",
       "        text-align: left;\n",
       "    }\n",
       "\n",
       "    .dataframe tbody tr th {\n",
       "        vertical-align: top;\n",
       "    }\n",
       "</style>\n",
       "<table border=\"1\" class=\"dataframe\">\n",
       "  <thead>\n",
       "    <tr style=\"text-align: right;\">\n",
       "      <th></th>\n",
       "      <th>artist-name</th>\n",
       "      <th>total_artist_plays</th>\n",
       "    </tr>\n",
       "  </thead>\n",
       "  <tbody>\n",
       "    <tr>\n",
       "      <th>0</th>\n",
       "      <td>04)]</td>\n",
       "      <td>6</td>\n",
       "    </tr>\n",
       "    <tr>\n",
       "      <th>1</th>\n",
       "      <td>2</td>\n",
       "      <td>1606</td>\n",
       "    </tr>\n",
       "    <tr>\n",
       "      <th>2</th>\n",
       "      <td>58725ab=&gt;</td>\n",
       "      <td>23</td>\n",
       "    </tr>\n",
       "    <tr>\n",
       "      <th>3</th>\n",
       "      <td>80lİ yillarin tÜrkÇe sÖzlÜ aŞk Şarkilari</td>\n",
       "      <td>70</td>\n",
       "    </tr>\n",
       "    <tr>\n",
       "      <th>4</th>\n",
       "      <td>amy winehouse</td>\n",
       "      <td>23</td>\n",
       "    </tr>\n",
       "  </tbody>\n",
       "</table>\n",
       "</div>"
      ],
      "text/plain": [
       "                                 artist-name  total_artist_plays\n",
       "0                                       04)]                   6\n",
       "1                                         2                 1606\n",
       "2                                  58725ab=>                  23\n",
       "3   80lİ yillarin tÜrkÇe sÖzlÜ aŞk Şarkilari                  70\n",
       "4                              amy winehouse                  23"
      ]
     },
     "execution_count": 14,
     "metadata": {},
     "output_type": "execute_result"
    }
   ],
   "source": [
    "artist_plays = (user_data.\n",
    "     groupby(by = ['artist-name'])['plays'].\n",
    "     sum().\n",
    "     reset_index().\n",
    "     rename(columns = {'plays': 'total_artist_plays'})\n",
    "     [['artist-name', 'total_artist_plays']]\n",
    "    )\n",
    "artist_plays.head()"
   ]
  },
  {
   "cell_type": "markdown",
   "metadata": {},
   "source": [
    "총 플레이 회수를 사용자의 활동 데이터에 병합해보자.\n",
    "이 정보를 활용해서 잘 알려지지 않은 아티스트를 필터링할 수 있다."
   ]
  },
  {
   "cell_type": "code",
   "execution_count": 16,
   "metadata": {},
   "outputs": [
    {
     "data": {
      "text/html": [
       "<div>\n",
       "<style>\n",
       "    .dataframe thead tr:only-child th {\n",
       "        text-align: right;\n",
       "    }\n",
       "\n",
       "    .dataframe thead th {\n",
       "        text-align: left;\n",
       "    }\n",
       "\n",
       "    .dataframe tbody tr th {\n",
       "        vertical-align: top;\n",
       "    }\n",
       "</style>\n",
       "<table border=\"1\" class=\"dataframe\">\n",
       "  <thead>\n",
       "    <tr style=\"text-align: right;\">\n",
       "      <th></th>\n",
       "      <th>users</th>\n",
       "      <th>artist-name</th>\n",
       "      <th>plays</th>\n",
       "      <th>total_artist_plays</th>\n",
       "    </tr>\n",
       "  </thead>\n",
       "  <tbody>\n",
       "    <tr>\n",
       "      <th>0</th>\n",
       "      <td>00000c289a1829a808ac09c00daf10bc3c4e223b</td>\n",
       "      <td>betty blowtorch</td>\n",
       "      <td>2137</td>\n",
       "      <td>25651</td>\n",
       "    </tr>\n",
       "    <tr>\n",
       "      <th>1</th>\n",
       "      <td>00000c289a1829a808ac09c00daf10bc3c4e223b</td>\n",
       "      <td>die Ärzte</td>\n",
       "      <td>1099</td>\n",
       "      <td>3704875</td>\n",
       "    </tr>\n",
       "    <tr>\n",
       "      <th>2</th>\n",
       "      <td>00000c289a1829a808ac09c00daf10bc3c4e223b</td>\n",
       "      <td>melissa etheridge</td>\n",
       "      <td>897</td>\n",
       "      <td>180391</td>\n",
       "    </tr>\n",
       "    <tr>\n",
       "      <th>3</th>\n",
       "      <td>00000c289a1829a808ac09c00daf10bc3c4e223b</td>\n",
       "      <td>elvenking</td>\n",
       "      <td>717</td>\n",
       "      <td>410725</td>\n",
       "    </tr>\n",
       "    <tr>\n",
       "      <th>4</th>\n",
       "      <td>00000c289a1829a808ac09c00daf10bc3c4e223b</td>\n",
       "      <td>juliette &amp; the licks</td>\n",
       "      <td>706</td>\n",
       "      <td>90498</td>\n",
       "    </tr>\n",
       "  </tbody>\n",
       "</table>\n",
       "</div>"
      ],
      "text/plain": [
       "                                      users           artist-name  plays  \\\n",
       "0  00000c289a1829a808ac09c00daf10bc3c4e223b       betty blowtorch   2137   \n",
       "1  00000c289a1829a808ac09c00daf10bc3c4e223b             die Ärzte   1099   \n",
       "2  00000c289a1829a808ac09c00daf10bc3c4e223b     melissa etheridge    897   \n",
       "3  00000c289a1829a808ac09c00daf10bc3c4e223b             elvenking    717   \n",
       "4  00000c289a1829a808ac09c00daf10bc3c4e223b  juliette & the licks    706   \n",
       "\n",
       "   total_artist_plays  \n",
       "0               25651  \n",
       "1             3704875  \n",
       "2              180391  \n",
       "3              410725  \n",
       "4               90498  "
      ]
     },
     "execution_count": 16,
     "metadata": {},
     "output_type": "execute_result"
    }
   ],
   "source": [
    "user_data_with_artist_plays = user_data.merge(artist_plays, left_on = 'artist-name', right_on = 'artist-name', how = 'left')\n",
    "user_data_with_artist_plays.head()"
   ]
  },
  {
   "cell_type": "markdown",
   "metadata": {},
   "source": [
    "### 유명한 아티스트 판단 기준 설정"
   ]
  },
  {
   "cell_type": "markdown",
   "metadata": {},
   "source": [
    "거의 300,000 아티스트들이 있기 때문에, 대부분의 아티스들은 몇 번 정도의 플레이 회수를 가지고 있다. 통계량을 살펴보자."
   ]
  },
  {
   "cell_type": "code",
   "execution_count": 17,
   "metadata": {},
   "outputs": [
    {
     "name": "stdout",
     "output_type": "stream",
     "text": [
      "count     292364.000\n",
      "mean       12907.037\n",
      "std       185981.313\n",
      "min            1.000\n",
      "25%           53.000\n",
      "50%          208.000\n",
      "75%         1048.000\n",
      "max     30466827.000\n",
      "Name: total_artist_plays, dtype: float64\n"
     ]
    }
   ],
   "source": [
    "print(artist_plays['total_artist_plays'].describe())"
   ]
  },
  {
   "cell_type": "markdown",
   "metadata": {},
   "source": [
    "가정했던 대로 중앙값은 200 정도 밖에 되지 않는다. 상위 1% 에 대한 통계를 살펴 보자."
   ]
  },
  {
   "cell_type": "code",
   "execution_count": 18,
   "metadata": {},
   "outputs": [
    {
     "name": "stdout",
     "output_type": "stream",
     "text": [
      "0.900     6138.000\n",
      "0.910     7410.000\n",
      "0.920     9102.960\n",
      "0.930    11475.590\n",
      "0.940    14898.440\n",
      "0.950    19964.250\n",
      "0.960    28419.880\n",
      "0.970    43541.330\n",
      "0.980    79403.440\n",
      "0.990   198482.590\n",
      "Name: total_artist_plays, dtype: float64\n"
     ]
    }
   ],
   "source": [
    "print(artist_plays['total_artist_plays'].quantile(np.arange(.9, 1, .01)))"
   ]
  },
  {
   "cell_type": "markdown",
   "metadata": {},
   "source": [
    "상위 1% 정도가 거의 200,000번 이상 플레이 되었고, 상위 2%가 80,000번, 상위 3%가 40,000번 정도 플레이되었다. 상위 3퍼센트 정도만 추천에 사용하자. 이 기준 이상으로 추천을 하는 경우 적절하지 않은 결과를 가져올 수 있다."
   ]
  },
  {
   "cell_type": "code",
   "execution_count": 19,
   "metadata": {},
   "outputs": [
    {
     "data": {
      "text/html": [
       "<div>\n",
       "<style>\n",
       "    .dataframe thead tr:only-child th {\n",
       "        text-align: right;\n",
       "    }\n",
       "\n",
       "    .dataframe thead th {\n",
       "        text-align: left;\n",
       "    }\n",
       "\n",
       "    .dataframe tbody tr th {\n",
       "        vertical-align: top;\n",
       "    }\n",
       "</style>\n",
       "<table border=\"1\" class=\"dataframe\">\n",
       "  <thead>\n",
       "    <tr style=\"text-align: right;\">\n",
       "      <th></th>\n",
       "      <th>users</th>\n",
       "      <th>artist-name</th>\n",
       "      <th>plays</th>\n",
       "      <th>total_artist_plays</th>\n",
       "    </tr>\n",
       "  </thead>\n",
       "  <tbody>\n",
       "    <tr>\n",
       "      <th>1</th>\n",
       "      <td>00000c289a1829a808ac09c00daf10bc3c4e223b</td>\n",
       "      <td>die Ärzte</td>\n",
       "      <td>1099</td>\n",
       "      <td>3704875</td>\n",
       "    </tr>\n",
       "    <tr>\n",
       "      <th>2</th>\n",
       "      <td>00000c289a1829a808ac09c00daf10bc3c4e223b</td>\n",
       "      <td>melissa etheridge</td>\n",
       "      <td>897</td>\n",
       "      <td>180391</td>\n",
       "    </tr>\n",
       "    <tr>\n",
       "      <th>3</th>\n",
       "      <td>00000c289a1829a808ac09c00daf10bc3c4e223b</td>\n",
       "      <td>elvenking</td>\n",
       "      <td>717</td>\n",
       "      <td>410725</td>\n",
       "    </tr>\n",
       "    <tr>\n",
       "      <th>4</th>\n",
       "      <td>00000c289a1829a808ac09c00daf10bc3c4e223b</td>\n",
       "      <td>juliette &amp; the licks</td>\n",
       "      <td>706</td>\n",
       "      <td>90498</td>\n",
       "    </tr>\n",
       "    <tr>\n",
       "      <th>5</th>\n",
       "      <td>00000c289a1829a808ac09c00daf10bc3c4e223b</td>\n",
       "      <td>red hot chili peppers</td>\n",
       "      <td>691</td>\n",
       "      <td>13547741</td>\n",
       "    </tr>\n",
       "  </tbody>\n",
       "</table>\n",
       "</div>"
      ],
      "text/plain": [
       "                                      users            artist-name  plays  \\\n",
       "1  00000c289a1829a808ac09c00daf10bc3c4e223b              die Ärzte   1099   \n",
       "2  00000c289a1829a808ac09c00daf10bc3c4e223b      melissa etheridge    897   \n",
       "3  00000c289a1829a808ac09c00daf10bc3c4e223b              elvenking    717   \n",
       "4  00000c289a1829a808ac09c00daf10bc3c4e223b   juliette & the licks    706   \n",
       "5  00000c289a1829a808ac09c00daf10bc3c4e223b  red hot chili peppers    691   \n",
       "\n",
       "   total_artist_plays  \n",
       "1             3704875  \n",
       "2              180391  \n",
       "3              410725  \n",
       "4               90498  \n",
       "5            13547741  "
      ]
     },
     "execution_count": 19,
     "metadata": {},
     "output_type": "execute_result"
    }
   ],
   "source": [
    "popularity_threshold = 40000\n",
    "user_data_popular_artists = user_data_with_artist_plays.query('total_artist_plays >= @popularity_threshold')\n",
    "user_data_popular_artists.head()"
   ]
  },
  {
   "cell_type": "markdown",
   "metadata": {},
   "source": [
    "### 한국 사용자의 활동 정보만 사용"
   ]
  },
  {
   "cell_type": "markdown",
   "metadata": {},
   "source": [
    "활동 정보가 담긴 데이터와 사용자의 국가 정보가 담긴 데이터를 병합한다.<br> 데이터 중에 사용자의 국가 정보가 한국인 데이터만 필터링한다."
   ]
  },
  {
   "cell_type": "code",
   "execution_count": 38,
   "metadata": {},
   "outputs": [
    {
     "data": {
      "text/html": [
       "<div>\n",
       "<style>\n",
       "    .dataframe thead tr:only-child th {\n",
       "        text-align: right;\n",
       "    }\n",
       "\n",
       "    .dataframe thead th {\n",
       "        text-align: left;\n",
       "    }\n",
       "\n",
       "    .dataframe tbody tr th {\n",
       "        vertical-align: top;\n",
       "    }\n",
       "</style>\n",
       "<table border=\"1\" class=\"dataframe\">\n",
       "  <thead>\n",
       "    <tr style=\"text-align: right;\">\n",
       "      <th></th>\n",
       "      <th>users</th>\n",
       "      <th>artist-name</th>\n",
       "      <th>plays</th>\n",
       "      <th>total_artist_plays</th>\n",
       "      <th>country</th>\n",
       "    </tr>\n",
       "  </thead>\n",
       "  <tbody>\n",
       "    <tr>\n",
       "      <th>1471</th>\n",
       "      <td>00065b397ff3c9ac3ef5e2b58f96c1284265bdc1</td>\n",
       "      <td>machinefabriek</td>\n",
       "      <td>475</td>\n",
       "      <td>59579</td>\n",
       "      <td>Korea, Republic of</td>\n",
       "    </tr>\n",
       "    <tr>\n",
       "      <th>1472</th>\n",
       "      <td>00065b397ff3c9ac3ef5e2b58f96c1284265bdc1</td>\n",
       "      <td>hood</td>\n",
       "      <td>471</td>\n",
       "      <td>139777</td>\n",
       "      <td>Korea, Republic of</td>\n",
       "    </tr>\n",
       "    <tr>\n",
       "      <th>1473</th>\n",
       "      <td>00065b397ff3c9ac3ef5e2b58f96c1284265bdc1</td>\n",
       "      <td>tape</td>\n",
       "      <td>471</td>\n",
       "      <td>45444</td>\n",
       "      <td>Korea, Republic of</td>\n",
       "    </tr>\n",
       "    <tr>\n",
       "      <th>1474</th>\n",
       "      <td>00065b397ff3c9ac3ef5e2b58f96c1284265bdc1</td>\n",
       "      <td>sonic youth</td>\n",
       "      <td>455</td>\n",
       "      <td>3967343</td>\n",
       "      <td>Korea, Republic of</td>\n",
       "    </tr>\n",
       "    <tr>\n",
       "      <th>1475</th>\n",
       "      <td>00065b397ff3c9ac3ef5e2b58f96c1284265bdc1</td>\n",
       "      <td>the fall</td>\n",
       "      <td>448</td>\n",
       "      <td>1033200</td>\n",
       "      <td>Korea, Republic of</td>\n",
       "    </tr>\n",
       "    <tr>\n",
       "      <th>1476</th>\n",
       "      <td>00065b397ff3c9ac3ef5e2b58f96c1284265bdc1</td>\n",
       "      <td>john fahey</td>\n",
       "      <td>425</td>\n",
       "      <td>240948</td>\n",
       "      <td>Korea, Republic of</td>\n",
       "    </tr>\n",
       "    <tr>\n",
       "      <th>1477</th>\n",
       "      <td>00065b397ff3c9ac3ef5e2b58f96c1284265bdc1</td>\n",
       "      <td>maher shalal hash baz</td>\n",
       "      <td>413</td>\n",
       "      <td>74771</td>\n",
       "      <td>Korea, Republic of</td>\n",
       "    </tr>\n",
       "    <tr>\n",
       "      <th>1478</th>\n",
       "      <td>00065b397ff3c9ac3ef5e2b58f96c1284265bdc1</td>\n",
       "      <td>tim hecker</td>\n",
       "      <td>374</td>\n",
       "      <td>461187</td>\n",
       "      <td>Korea, Republic of</td>\n",
       "    </tr>\n",
       "    <tr>\n",
       "      <th>1479</th>\n",
       "      <td>00065b397ff3c9ac3ef5e2b58f96c1284265bdc1</td>\n",
       "      <td>stars of the lid</td>\n",
       "      <td>321</td>\n",
       "      <td>664611</td>\n",
       "      <td>Korea, Republic of</td>\n",
       "    </tr>\n",
       "    <tr>\n",
       "      <th>1480</th>\n",
       "      <td>00065b397ff3c9ac3ef5e2b58f96c1284265bdc1</td>\n",
       "      <td>sun city girls</td>\n",
       "      <td>315</td>\n",
       "      <td>144953</td>\n",
       "      <td>Korea, Republic of</td>\n",
       "    </tr>\n",
       "    <tr>\n",
       "      <th>1481</th>\n",
       "      <td>00065b397ff3c9ac3ef5e2b58f96c1284265bdc1</td>\n",
       "      <td>caribou</td>\n",
       "      <td>313</td>\n",
       "      <td>390914</td>\n",
       "      <td>Korea, Republic of</td>\n",
       "    </tr>\n",
       "    <tr>\n",
       "      <th>1482</th>\n",
       "      <td>00065b397ff3c9ac3ef5e2b58f96c1284265bdc1</td>\n",
       "      <td>grouper</td>\n",
       "      <td>310</td>\n",
       "      <td>206002</td>\n",
       "      <td>Korea, Republic of</td>\n",
       "    </tr>\n",
       "    <tr>\n",
       "      <th>1483</th>\n",
       "      <td>00065b397ff3c9ac3ef5e2b58f96c1284265bdc1</td>\n",
       "      <td>califone</td>\n",
       "      <td>277</td>\n",
       "      <td>116374</td>\n",
       "      <td>Korea, Republic of</td>\n",
       "    </tr>\n",
       "    <tr>\n",
       "      <th>1484</th>\n",
       "      <td>00065b397ff3c9ac3ef5e2b58f96c1284265bdc1</td>\n",
       "      <td>six organs of admittance</td>\n",
       "      <td>274</td>\n",
       "      <td>173687</td>\n",
       "      <td>Korea, Republic of</td>\n",
       "    </tr>\n",
       "    <tr>\n",
       "      <th>1485</th>\n",
       "      <td>00065b397ff3c9ac3ef5e2b58f96c1284265bdc1</td>\n",
       "      <td>mogwai</td>\n",
       "      <td>271</td>\n",
       "      <td>3755449</td>\n",
       "      <td>Korea, Republic of</td>\n",
       "    </tr>\n",
       "    <tr>\n",
       "      <th>1486</th>\n",
       "      <td>00065b397ff3c9ac3ef5e2b58f96c1284265bdc1</td>\n",
       "      <td>this heat</td>\n",
       "      <td>271</td>\n",
       "      <td>74312</td>\n",
       "      <td>Korea, Republic of</td>\n",
       "    </tr>\n",
       "    <tr>\n",
       "      <th>1487</th>\n",
       "      <td>00065b397ff3c9ac3ef5e2b58f96c1284265bdc1</td>\n",
       "      <td>times new viking</td>\n",
       "      <td>271</td>\n",
       "      <td>123838</td>\n",
       "      <td>Korea, Republic of</td>\n",
       "    </tr>\n",
       "    <tr>\n",
       "      <th>1488</th>\n",
       "      <td>00065b397ff3c9ac3ef5e2b58f96c1284265bdc1</td>\n",
       "      <td>the velvet underground</td>\n",
       "      <td>269</td>\n",
       "      <td>2495679</td>\n",
       "      <td>Korea, Republic of</td>\n",
       "    </tr>\n",
       "    <tr>\n",
       "      <th>1489</th>\n",
       "      <td>00065b397ff3c9ac3ef5e2b58f96c1284265bdc1</td>\n",
       "      <td>oneida</td>\n",
       "      <td>265</td>\n",
       "      <td>57596</td>\n",
       "      <td>Korea, Republic of</td>\n",
       "    </tr>\n",
       "    <tr>\n",
       "      <th>1490</th>\n",
       "      <td>00065b397ff3c9ac3ef5e2b58f96c1284265bdc1</td>\n",
       "      <td>stereolab</td>\n",
       "      <td>264</td>\n",
       "      <td>1231495</td>\n",
       "      <td>Korea, Republic of</td>\n",
       "    </tr>\n",
       "    <tr>\n",
       "      <th>1491</th>\n",
       "      <td>00065b397ff3c9ac3ef5e2b58f96c1284265bdc1</td>\n",
       "      <td>my bloody valentine</td>\n",
       "      <td>261</td>\n",
       "      <td>1551499</td>\n",
       "      <td>Korea, Republic of</td>\n",
       "    </tr>\n",
       "    <tr>\n",
       "      <th>1492</th>\n",
       "      <td>00065b397ff3c9ac3ef5e2b58f96c1284265bdc1</td>\n",
       "      <td>the radio dept.</td>\n",
       "      <td>257</td>\n",
       "      <td>843579</td>\n",
       "      <td>Korea, Republic of</td>\n",
       "    </tr>\n",
       "    <tr>\n",
       "      <th>1493</th>\n",
       "      <td>00065b397ff3c9ac3ef5e2b58f96c1284265bdc1</td>\n",
       "      <td>fennesz</td>\n",
       "      <td>253</td>\n",
       "      <td>261855</td>\n",
       "      <td>Korea, Republic of</td>\n",
       "    </tr>\n",
       "    <tr>\n",
       "      <th>1494</th>\n",
       "      <td>00065b397ff3c9ac3ef5e2b58f96c1284265bdc1</td>\n",
       "      <td>the ex</td>\n",
       "      <td>235</td>\n",
       "      <td>40698</td>\n",
       "      <td>Korea, Republic of</td>\n",
       "    </tr>\n",
       "    <tr>\n",
       "      <th>1495</th>\n",
       "      <td>00065b397ff3c9ac3ef5e2b58f96c1284265bdc1</td>\n",
       "      <td>boris</td>\n",
       "      <td>227</td>\n",
       "      <td>536427</td>\n",
       "      <td>Korea, Republic of</td>\n",
       "    </tr>\n",
       "    <tr>\n",
       "      <th>1496</th>\n",
       "      <td>00065b397ff3c9ac3ef5e2b58f96c1284265bdc1</td>\n",
       "      <td>labradford</td>\n",
       "      <td>227</td>\n",
       "      <td>111463</td>\n",
       "      <td>Korea, Republic of</td>\n",
       "    </tr>\n",
       "    <tr>\n",
       "      <th>1497</th>\n",
       "      <td>00065b397ff3c9ac3ef5e2b58f96c1284265bdc1</td>\n",
       "      <td>the kinks</td>\n",
       "      <td>222</td>\n",
       "      <td>2375749</td>\n",
       "      <td>Korea, Republic of</td>\n",
       "    </tr>\n",
       "    <tr>\n",
       "      <th>1498</th>\n",
       "      <td>00065b397ff3c9ac3ef5e2b58f96c1284265bdc1</td>\n",
       "      <td>can</td>\n",
       "      <td>213</td>\n",
       "      <td>420744</td>\n",
       "      <td>Korea, Republic of</td>\n",
       "    </tr>\n",
       "    <tr>\n",
       "      <th>1499</th>\n",
       "      <td>00065b397ff3c9ac3ef5e2b58f96c1284265bdc1</td>\n",
       "      <td>benoît pioulard</td>\n",
       "      <td>196</td>\n",
       "      <td>141909</td>\n",
       "      <td>Korea, Republic of</td>\n",
       "    </tr>\n",
       "    <tr>\n",
       "      <th>1500</th>\n",
       "      <td>00065b397ff3c9ac3ef5e2b58f96c1284265bdc1</td>\n",
       "      <td>mission of burma</td>\n",
       "      <td>196</td>\n",
       "      <td>202984</td>\n",
       "      <td>Korea, Republic of</td>\n",
       "    </tr>\n",
       "  </tbody>\n",
       "</table>\n",
       "</div>"
      ],
      "text/plain": [
       "                                         users               artist-name  \\\n",
       "1471  00065b397ff3c9ac3ef5e2b58f96c1284265bdc1            machinefabriek   \n",
       "1472  00065b397ff3c9ac3ef5e2b58f96c1284265bdc1                      hood   \n",
       "1473  00065b397ff3c9ac3ef5e2b58f96c1284265bdc1                      tape   \n",
       "1474  00065b397ff3c9ac3ef5e2b58f96c1284265bdc1               sonic youth   \n",
       "1475  00065b397ff3c9ac3ef5e2b58f96c1284265bdc1                  the fall   \n",
       "1476  00065b397ff3c9ac3ef5e2b58f96c1284265bdc1                john fahey   \n",
       "1477  00065b397ff3c9ac3ef5e2b58f96c1284265bdc1     maher shalal hash baz   \n",
       "1478  00065b397ff3c9ac3ef5e2b58f96c1284265bdc1                tim hecker   \n",
       "1479  00065b397ff3c9ac3ef5e2b58f96c1284265bdc1          stars of the lid   \n",
       "1480  00065b397ff3c9ac3ef5e2b58f96c1284265bdc1            sun city girls   \n",
       "1481  00065b397ff3c9ac3ef5e2b58f96c1284265bdc1                   caribou   \n",
       "1482  00065b397ff3c9ac3ef5e2b58f96c1284265bdc1                   grouper   \n",
       "1483  00065b397ff3c9ac3ef5e2b58f96c1284265bdc1                  califone   \n",
       "1484  00065b397ff3c9ac3ef5e2b58f96c1284265bdc1  six organs of admittance   \n",
       "1485  00065b397ff3c9ac3ef5e2b58f96c1284265bdc1                    mogwai   \n",
       "1486  00065b397ff3c9ac3ef5e2b58f96c1284265bdc1                 this heat   \n",
       "1487  00065b397ff3c9ac3ef5e2b58f96c1284265bdc1          times new viking   \n",
       "1488  00065b397ff3c9ac3ef5e2b58f96c1284265bdc1    the velvet underground   \n",
       "1489  00065b397ff3c9ac3ef5e2b58f96c1284265bdc1                    oneida   \n",
       "1490  00065b397ff3c9ac3ef5e2b58f96c1284265bdc1                 stereolab   \n",
       "1491  00065b397ff3c9ac3ef5e2b58f96c1284265bdc1       my bloody valentine   \n",
       "1492  00065b397ff3c9ac3ef5e2b58f96c1284265bdc1           the radio dept.   \n",
       "1493  00065b397ff3c9ac3ef5e2b58f96c1284265bdc1                   fennesz   \n",
       "1494  00065b397ff3c9ac3ef5e2b58f96c1284265bdc1                    the ex   \n",
       "1495  00065b397ff3c9ac3ef5e2b58f96c1284265bdc1                     boris   \n",
       "1496  00065b397ff3c9ac3ef5e2b58f96c1284265bdc1                labradford   \n",
       "1497  00065b397ff3c9ac3ef5e2b58f96c1284265bdc1                 the kinks   \n",
       "1498  00065b397ff3c9ac3ef5e2b58f96c1284265bdc1                       can   \n",
       "1499  00065b397ff3c9ac3ef5e2b58f96c1284265bdc1           benoît pioulard   \n",
       "1500  00065b397ff3c9ac3ef5e2b58f96c1284265bdc1          mission of burma   \n",
       "\n",
       "      plays  total_artist_plays             country  \n",
       "1471    475               59579  Korea, Republic of  \n",
       "1472    471              139777  Korea, Republic of  \n",
       "1473    471               45444  Korea, Republic of  \n",
       "1474    455             3967343  Korea, Republic of  \n",
       "1475    448             1033200  Korea, Republic of  \n",
       "1476    425              240948  Korea, Republic of  \n",
       "1477    413               74771  Korea, Republic of  \n",
       "1478    374              461187  Korea, Republic of  \n",
       "1479    321              664611  Korea, Republic of  \n",
       "1480    315              144953  Korea, Republic of  \n",
       "1481    313              390914  Korea, Republic of  \n",
       "1482    310              206002  Korea, Republic of  \n",
       "1483    277              116374  Korea, Republic of  \n",
       "1484    274              173687  Korea, Republic of  \n",
       "1485    271             3755449  Korea, Republic of  \n",
       "1486    271               74312  Korea, Republic of  \n",
       "1487    271              123838  Korea, Republic of  \n",
       "1488    269             2495679  Korea, Republic of  \n",
       "1489    265               57596  Korea, Republic of  \n",
       "1490    264             1231495  Korea, Republic of  \n",
       "1491    261             1551499  Korea, Republic of  \n",
       "1492    257              843579  Korea, Republic of  \n",
       "1493    253              261855  Korea, Republic of  \n",
       "1494    235               40698  Korea, Republic of  \n",
       "1495    227              536427  Korea, Republic of  \n",
       "1496    227              111463  Korea, Republic of  \n",
       "1497    222             2375749  Korea, Republic of  \n",
       "1498    213              420744  Korea, Republic of  \n",
       "1499    196              141909  Korea, Republic of  \n",
       "1500    196              202984  Korea, Republic of  "
      ]
     },
     "execution_count": 38,
     "metadata": {},
     "output_type": "execute_result"
    }
   ],
   "source": [
    "combined = user_data_popular_artists.merge(user_profiles, left_on = 'users', right_on = 'users', how = 'left')\n",
    "kor_data = combined.query('country == \\'Korea, Republic of\\'')\n",
    "kor_data.head(30)"
   ]
  },
  {
   "cell_type": "markdown",
   "metadata": {},
   "source": [
    "중복되는 정보가 있으면 제거한다."
   ]
  },
  {
   "cell_type": "code",
   "execution_count": 39,
   "metadata": {},
   "outputs": [
    {
     "name": "stdout",
     "output_type": "stream",
     "text": [
      "Initial dataframe shape (13802, 5)\n",
      "New dataframe shape (13801, 5)\n",
      "Removed 1 rows\n"
     ]
    }
   ],
   "source": [
    "if not kor_data[kor_data.duplicated(['users', 'artist-name'])].empty:\n",
    "    initial_rows = kor_data.shape[0]\n",
    "\n",
    "    print('Initial dataframe shape {0}'.format(kor_data.shape))\n",
    "    kor_data = kor_data.drop_duplicates(['users', 'artist-name'])\n",
    "    current_rows = kor_data.shape[0]\n",
    "    print('New dataframe shape {0}'.format(kor_data.shape))\n",
    "    print('Removed {0} rows'.format(initial_rows - current_rows))"
   ]
  },
  {
   "cell_type": "markdown",
   "metadata": {},
   "source": [
    "### Nearest Neighbor Model 구현"
   ]
  },
  {
   "cell_type": "markdown",
   "metadata": {},
   "source": [
    "#### 데이터 형태 변환(Reshaping)"
   ]
  },
  {
   "cell_type": "raw",
   "metadata": {},
   "source": [
    "K-NN 모델을 적용하기 위해 데이터를 m x n 배열 형태로 변환해야 한다. 여기서 m은 아티스트 수이고, n은 사용자의 수다. 데이터프레임을 형태 변환하기 위해서 아티스트들을 행으로 사용자를 열로 피벗한다. 선형 대수 연산(벡터 간의 거리 계산)을 하기 위해 관측치가 없는 부분은 0으로 채워 넣는다. 끝으로 데이터 프레임의 값의 효과적인 연산을 위해 scipy에서 제공하는 sparse matrix 형태로 변환한다."
   ]
  },
  {
   "cell_type": "code",
   "execution_count": 41,
   "metadata": {
    "collapsed": true
   },
   "outputs": [],
   "source": [
    "wide_artist_data = kor_data.pivot(index = 'artist-name', columns = 'users', values = 'plays').fillna(0)\n",
    "wide_artist_data_sparse = csr_matrix(wide_artist_data.values)"
   ]
  },
  {
   "cell_type": "markdown",
   "metadata": {},
   "source": [
    "#### 모델링"
   ]
  },
  {
   "cell_type": "markdown",
   "metadata": {},
   "source": [
    "모델을 만들 차례다. NearestNeighbors 클래스를 초기화하여 model_knn에 넣고 앞서 작성한 sparse matrix를 피팅한다. Metric은 Cosine을 사용하며, 아티스트 벡터 사이의 유사도를 Cosine similarity를 이용해 구하는 것을 의미한다."
   ]
  },
  {
   "cell_type": "code",
   "execution_count": 42,
   "metadata": {},
   "outputs": [
    {
     "data": {
      "text/plain": [
       "NearestNeighbors(algorithm='brute', leaf_size=30, metric='cosine',\n",
       "         metric_params=None, n_jobs=1, n_neighbors=5, p=2, radius=1.0)"
      ]
     },
     "execution_count": 42,
     "metadata": {},
     "output_type": "execute_result"
    }
   ],
   "source": [
    "from sklearn.neighbors import NearestNeighbors\n",
    "\n",
    "model_knn = NearestNeighbors(metric = 'cosine', algorithm = 'brute')\n",
    "model_knn.fit(wide_artist_data_sparse)"
   ]
  },
  {
   "cell_type": "markdown",
   "metadata": {},
   "source": [
    "#### 아티스트 추천 생성"
   ]
  },
  {
   "cell_type": "markdown",
   "metadata": {
    "collapsed": true
   },
   "source": [
    "이제 아티스트 추천을 해보자. 랜덤하게 뽑은 한 아티스트와 유사한 아티스트 목록을 출력한다."
   ]
  },
  {
   "cell_type": "code",
   "execution_count": 66,
   "metadata": {},
   "outputs": [
    {
     "name": "stdout",
     "output_type": "stream",
     "text": [
      "Recommendations for the smashing pumpkins:\n",
      "\n",
      "1: bajofondo, with distance of 0.3025156182926413:\n",
      "2: david holmes, with distance of 0.3025156182926413:\n",
      "3: sweatshop union, with distance of 0.3025156182926413:\n",
      "4: jean grae, with distance of 0.3025548048876874:\n",
      "5: green day, with distance of 0.3047404599140564:\n"
     ]
    }
   ],
   "source": [
    "query_index = np.random.choice(wide_artist_data_sparse.shape[0])\n",
    "distances, indices = model_knn.kneighbors(wide_artist_data.iloc[query_index, :].values.reshape(1, -1), n_neighbors = 6)\n",
    "\n",
    "for i in range(0, len(distances.flatten())):\n",
    "    if i == 0:\n",
    "        print('Recommendations for {0}:\\n'.format(wide_artist_data.index[query_index]))\n",
    "    else:\n",
    "        print('{0}: {1}, with distance of {2}:'.format(i, wide_artist_data.index[indices.flatten()[i]], distances.flatten()[i]))"
   ]
  },
  {
   "cell_type": "markdown",
   "metadata": {
    "collapsed": true
   },
   "source": [
    "플레이 회수가 아닌 전에 플레이를 했는지 여부를 가지고 추천하는 알고리즘을 만들어보자."
   ]
  },
  {
   "cell_type": "code",
   "execution_count": 55,
   "metadata": {
    "collapsed": true
   },
   "outputs": [],
   "source": [
    "wide_artist_data_zero_one = wide_artist_data.apply(np.sign)\n",
    "wide_artist_data_zero_one_sparse = csr_matrix(wide_artist_data_zero_one.values)"
   ]
  },
  {
   "cell_type": "code",
   "execution_count": 56,
   "metadata": {},
   "outputs": [
    {
     "data": {
      "text/plain": [
       "NearestNeighbors(algorithm='brute', leaf_size=30, metric='cosine',\n",
       "         metric_params=None, n_jobs=1, n_neighbors=5, p=2, radius=1.0)"
      ]
     },
     "execution_count": 56,
     "metadata": {},
     "output_type": "execute_result"
    }
   ],
   "source": [
    "model_nn_binary = NearestNeighbors(metric='cosine', algorithm='brute')\n",
    "model_nn_binary.fit(wide_artist_data_zero_one_sparse)"
   ]
  },
  {
   "cell_type": "code",
   "execution_count": 68,
   "metadata": {},
   "outputs": [
    {
     "name": "stdout",
     "output_type": "stream",
     "text": [
      "Recommendations with binary play data for the smashing pumpkins:\n",
      "\n",
      "1: radiohead, with distance of 0.6110777658687012:\n",
      "2: pixies, with distance of 0.7083333333333334:\n",
      "3: beck, with distance of 0.716930741463851:\n",
      "4: damien rice, with distance of 0.7384428128264067:\n",
      "5: oasis, with distance of 0.7421446884353017:\n"
     ]
    }
   ],
   "source": [
    "distances, indices = model_nn_binary.kneighbors(wide_artist_data_zero_one.iloc[query_index, :].values.reshape(1, -1), n_neighbors = 6)\n",
    "\n",
    "for i in range(0, len(distances.flatten())):\n",
    "    if i == 0:\n",
    "        print('Recommendations with binary play data for {0}:\\n'.format(wide_artist_data_zero_one.index[query_index]))\n",
    "    else:\n",
    "        print('{0}: {1}, with distance of {2}:'.format(i, wide_artist_data_zero_one.index[indices.flatten()[i]], distances.flatten()[i]))"
   ]
  },
  {
   "cell_type": "markdown",
   "metadata": {},
   "source": [
    "smashing pumpkins를 좋아하는 사람은 radiohead나 pixies를 좋아할 수도 있습니다. <br> 이전 실험에 비해 거리는 더 크지만 sign 함수를 사용하여 데이터를 스쿼시하기 때문이다."
   ]
  }
 ],
 "metadata": {
  "kernelspec": {
   "display_name": "Python 3",
   "language": "python",
   "name": "python3"
  },
  "language_info": {
   "codemirror_mode": {
    "name": "ipython",
    "version": 3.0
   },
   "file_extension": ".py",
   "mimetype": "text/x-python",
   "name": "python",
   "nbconvert_exporter": "python",
   "pygments_lexer": "ipython3",
   "version": "3.6.1"
  }
 },
 "nbformat": 4,
 "nbformat_minor": 0
}